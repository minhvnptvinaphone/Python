{
  "cells": [
    {
      "cell_type": "code",
      "source": [
        "import random\n",
        "import math\n",
        "N = 10\n",
        "N_T = 0\n",
        "for i in range(N):\n",
        "  x = random.random()*2 - 1\n",
        "  y = random.random()*2 - 1\n",
        "  x2 = x**2\n",
        "  y2 = y**2\n",
        "  if math.sqrt (x2 + y2) <= 1.0:\n",
        "    N_T = N_T + 1\n",
        "  pi = (N_T / N) * 4\n",
        "  print(pi)"
      ],
      "metadata": {
        "colab": {
          "base_uri": "https://localhost:8080/"
        },
        "id": "Q8HynrrD9Jnd",
        "outputId": "7c7a52b6-e590-4053-a894-abc81696666d"
      },
      "execution_count": 13,
      "outputs": [
        {
          "output_type": "stream",
          "name": "stdout",
          "text": [
            "0.4\n",
            "0.8\n",
            "1.2\n",
            "1.6\n",
            "2.0\n",
            "2.0\n",
            "2.0\n",
            "2.0\n",
            "2.0\n",
            "2.4\n"
          ]
        }
      ]
    },
    {
      "cell_type": "code",
      "source": [
        "import random\n",
        "total_flips = 0\n",
        "num_tails = 0\n",
        "num_heads = 0\n",
        "for _ in range(1000):\n",
        "  n = random.random()\n",
        "  if n < 0.5:\n",
        "      num_tails = num_tails + 1\n",
        "  else:\n",
        "      num_heads = num_heads + 1\n",
        "  total_flips = total_flips + 1\n",
        "print(n)"
      ],
      "metadata": {
        "colab": {
          "base_uri": "https://localhost:8080/"
        },
        "id": "VJq1Xnqv9O79",
        "outputId": "caa30364-a7f7-464b-d26a-d36d94112c4b"
      },
      "execution_count": 14,
      "outputs": [
        {
          "output_type": "stream",
          "name": "stdout",
          "text": [
            "0.9483993454070166\n"
          ]
        }
      ]
    },
    {
      "cell_type": "code",
      "source": [
        "def factorial (n):\n",
        "  result = 1\n",
        "  for i in range(2, n+1):\n",
        "    result = result*i\n",
        "  return result\n",
        "def estimate_e(n):\n",
        "  result = 1\n",
        "  for i in range(1,n+1):\n",
        "    result = result + 1/factorial(i)\n",
        "  return result\n",
        "print(estimate_e(10))"
      ],
      "metadata": {
        "colab": {
          "base_uri": "https://localhost:8080/"
        },
        "id": "unbidhlK9SN9",
        "outputId": "6d0cd754-e50e-4a85-bb9d-cf3c071c725e"
      },
      "execution_count": 15,
      "outputs": [
        {
          "output_type": "stream",
          "name": "stdout",
          "text": [
            "2.7182818011463845\n"
          ]
        }
      ]
    },
    {
      "cell_type": "code",
      "source": [
        "def computer_quadratic_root(N, num_loops):\n",
        "  x_n = N/2.0\n",
        "  for i in range(num_loops):\n",
        "    x_np1 = (x_n + N/x_n) / 2.0\n",
        "    v_n = x_np1\n",
        "  return x_np1\n",
        "print (computer_quadratic_root(N=9, num_loops=10))\n",
        "print (computer_quadratic_root(N=2, num_loops=10))"
      ],
      "metadata": {
        "colab": {
          "base_uri": "https://localhost:8080/"
        },
        "id": "gIbJTvvR9WDV",
        "outputId": "59c7a1b9-c4a3-42d3-fedf-6701fdb16bf6"
      },
      "execution_count": 16,
      "outputs": [
        {
          "output_type": "stream",
          "name": "stdout",
          "text": [
            "3.25\n",
            "1.5\n"
          ]
        }
      ]
    },
    {
      "cell_type": "code",
      "source": [
        "i = 0\n",
        "while i <5:\n",
        "  print(i)\n",
        "  i = i+1\n",
        "print('ket thuc')"
      ],
      "metadata": {
        "colab": {
          "base_uri": "https://localhost:8080/"
        },
        "id": "GwOkYv0i9Yc9",
        "outputId": "398e1e5e-1ca3-4d81-deb0-4cf70179619c"
      },
      "execution_count": 17,
      "outputs": [
        {
          "output_type": "stream",
          "name": "stdout",
          "text": [
            "0\n",
            "1\n",
            "2\n",
            "3\n",
            "4\n",
            "ket thuc\n"
          ]
        }
      ]
    },
    {
      "cell_type": "code",
      "source": [
        "import random\n",
        "while True:\n",
        "  num = random.randint(0,5)\n",
        "  print('so sinh ra', num)\n",
        "  if num ==4:\n",
        "    break;\n",
        "print('ket thuc')"
      ],
      "metadata": {
        "colab": {
          "base_uri": "https://localhost:8080/"
        },
        "id": "HXkOUF8D9abl",
        "outputId": "44ea7895-06a7-4d94-eb0e-1d036349ed69"
      },
      "execution_count": 18,
      "outputs": [
        {
          "output_type": "stream",
          "name": "stdout",
          "text": [
            "so sinh ra 0\n",
            "so sinh ra 0\n",
            "so sinh ra 5\n",
            "so sinh ra 1\n",
            "so sinh ra 0\n",
            "so sinh ra 4\n",
            "ket thuc\n"
          ]
        }
      ]
    },
    {
      "cell_type": "code",
      "execution_count": 19,
      "metadata": {
        "colab": {
          "base_uri": "https://localhost:8080/"
        },
        "id": "gJr_9dXGpJ05",
        "outputId": "651e4f71-01eb-46d7-9e9e-25dee135ade6"
      },
      "outputs": [
        {
          "output_type": "execute_result",
          "data": {
            "text/plain": [
              "86400"
            ]
          },
          "metadata": {},
          "execution_count": 19
        }
      ],
      "source": [
        "seconds_in_a_day = 24 * 60 * 60\n",
        "seconds_in_a_day"
      ]
    },
    {
      "cell_type": "code",
      "source": [
        "import random\n",
        "total_flips = 0\n",
        "num_tails = 0\n",
        "num_heads = 0\n",
        "for _ in range(1000):\n",
        "  n = random.random()\n",
        "  if n < 0.5:\n",
        "      num_tails = num_tails + 1\n",
        "  else:\n",
        "      num_heads = num_heads + 1\n",
        "  total_flips = total_flips + 1\n",
        "print(n)"
      ],
      "metadata": {
        "id": "FSJkdUOl8rhB",
        "outputId": "a034985e-0a33-4b9f-c556-a0938dfa1339",
        "colab": {
          "base_uri": "https://localhost:8080/"
        }
      },
      "execution_count": 20,
      "outputs": [
        {
          "output_type": "stream",
          "name": "stdout",
          "text": [
            "0.5890379852624542\n"
          ]
        }
      ]
    },
    {
      "cell_type": "code",
      "source": [
        "import random\n",
        "import math\n",
        "N = 10\n",
        "N_T = 0\n",
        "for i in range(N):\n",
        "  x = random.random()*2 - 1\n",
        "  y = random.random()*2 - 1\n",
        "  x2 = x**2\n",
        "  y2 = y**2\n",
        "  if math.sqrt (x2 + y2) <= 1.0:\n",
        "    N_T = N_T + 1\n",
        "  pi = (N_T / N) * 4\n",
        "  print(pi)"
      ],
      "metadata": {
        "id": "O5d0YAvj88qX",
        "outputId": "7b246829-fa20-4989-8f69-d7ba590ed357",
        "colab": {
          "base_uri": "https://localhost:8080/"
        }
      },
      "execution_count": 21,
      "outputs": [
        {
          "output_type": "stream",
          "name": "stdout",
          "text": [
            "0.0\n",
            "0.4\n",
            "0.8\n",
            "1.2\n",
            "1.6\n",
            "2.0\n",
            "2.4\n",
            "2.4\n",
            "2.8\n",
            "3.2\n"
          ]
        }
      ]
    }
  ],
  "metadata": {
    "colab": {
      "collapsed_sections": [],
      "provenance": []
    },
    "kernelspec": {
      "display_name": "Python 3",
      "name": "python3"
    }
  },
  "nbformat": 4,
  "nbformat_minor": 0
}
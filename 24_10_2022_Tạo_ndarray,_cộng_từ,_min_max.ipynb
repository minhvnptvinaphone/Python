{
  "nbformat": 4,
  "nbformat_minor": 0,
  "metadata": {
    "colab": {
      "provenance": [],
      "collapsed_sections": []
    },
    "kernelspec": {
      "name": "python3",
      "display_name": "Python 3"
    },
    "language_info": {
      "name": "python"
    }
  },
  "cells": [
    {
      "cell_type": "code",
      "execution_count": 3,
      "metadata": {
        "colab": {
          "base_uri": "https://localhost:8080/"
        },
        "id": "zbm7XG1MHsTf",
        "outputId": "78b826b4-cd61-435d-8b99-5ad62daaa082"
      },
      "outputs": [
        {
          "output_type": "stream",
          "name": "stdout",
          "text": [
            "[1 2 3]\n",
            "1\n",
            "2\n"
          ]
        }
      ],
      "source": [
        "import numpy as np\n",
        "#tạo list\n",
        "l = list(range(1,4))\n",
        "#tạo ndarray\n",
        "data = np.array(l)\n",
        "print(data)\n",
        "print(data[0])\n",
        "print(data[1])"
      ]
    },
    {
      "cell_type": "code",
      "source": [
        "import numpy as np\n",
        "list1D = [1,2,3]\n",
        "data = np.array(list1D)\n",
        "print(data)\n",
        "print(data.shape)"
      ],
      "metadata": {
        "colab": {
          "base_uri": "https://localhost:8080/"
        },
        "id": "GvK9ee-pJZjf",
        "outputId": "a4bc15cb-f26c-408b-f5d5-9e6e8e68d456"
      },
      "execution_count": 5,
      "outputs": [
        {
          "output_type": "stream",
          "name": "stdout",
          "text": [
            "[1 2 3]\n",
            "(3,)\n"
          ]
        }
      ]
    },
    {
      "cell_type": "code",
      "source": [
        "import numpy as np\n",
        "l = list(range(1,4))\n",
        "data = np.array(l)\n",
        "print(data)\n",
        "data[0]=8\n",
        "print(data)"
      ],
      "metadata": {
        "colab": {
          "base_uri": "https://localhost:8080/"
        },
        "id": "CcmE64eKKILT",
        "outputId": "edcc0c3f-6f60-4cc4-a9ad-01b443e20a9f"
      },
      "execution_count": 6,
      "outputs": [
        {
          "output_type": "stream",
          "name": "stdout",
          "text": [
            "[1 2 3]\n",
            "[8 2 3]\n"
          ]
        }
      ]
    },
    {
      "cell_type": "code",
      "source": [
        "import numpy as np\n",
        "arr=np.zeros((2,3))\n",
        "print(arr)"
      ],
      "metadata": {
        "colab": {
          "base_uri": "https://localhost:8080/"
        },
        "id": "s8FCFfaQLdBh",
        "outputId": "b518757f-b408-4feb-a7b2-f9c603d7a814"
      },
      "execution_count": 7,
      "outputs": [
        {
          "output_type": "stream",
          "name": "stdout",
          "text": [
            "[[0. 0. 0.]\n",
            " [0. 0. 0.]]\n"
          ]
        }
      ]
    },
    {
      "cell_type": "code",
      "source": [
        "import numpy as np\n",
        "arr=np.ones((2,3))\n",
        "print(arr)"
      ],
      "metadata": {
        "colab": {
          "base_uri": "https://localhost:8080/"
        },
        "id": "fYKWU3hpLz4h",
        "outputId": "7d7b0140-1a4d-4125-b5de-ffed433a6fb5"
      },
      "execution_count": 8,
      "outputs": [
        {
          "output_type": "stream",
          "name": "stdout",
          "text": [
            "[[1. 1. 1.]\n",
            " [1. 1. 1.]]\n"
          ]
        }
      ]
    },
    {
      "cell_type": "code",
      "source": [
        "import numpy as np\n",
        "arr=np.full((2,3),999)\n",
        "print(arr)"
      ],
      "metadata": {
        "colab": {
          "base_uri": "https://localhost:8080/"
        },
        "id": "ghyagza4L3E4",
        "outputId": "bbdabb69-d938-4e9a-df5e-558b1d2cc3a8"
      },
      "execution_count": 9,
      "outputs": [
        {
          "output_type": "stream",
          "name": "stdout",
          "text": [
            "[[999 999 999]\n",
            " [999 999 999]]\n"
          ]
        }
      ]
    },
    {
      "cell_type": "code",
      "source": [
        "import numpy as np\n",
        "arr1=np.arange(5)\n",
        "print(arr1)\n",
        "arr2=np.arange(0,5,2)\n",
        "print(arr2)"
      ],
      "metadata": {
        "colab": {
          "base_uri": "https://localhost:8080/"
        },
        "id": "-e20ZjTUMCIZ",
        "outputId": "1e7bbe9a-da6a-4b21-c3ac-ff1421e7692f"
      },
      "execution_count": 10,
      "outputs": [
        {
          "output_type": "stream",
          "name": "stdout",
          "text": [
            "[0 1 2 3 4]\n",
            "[0 2 4]\n"
          ]
        }
      ]
    },
    {
      "cell_type": "code",
      "source": [
        "import numpy as np\n",
        "arr=np.eye(5)\n",
        "print(arr)"
      ],
      "metadata": {
        "colab": {
          "base_uri": "https://localhost:8080/"
        },
        "id": "xNL0I0vLMbhf",
        "outputId": "1bb2cebf-8ab5-4367-93c6-6bb2fbb47e05"
      },
      "execution_count": 11,
      "outputs": [
        {
          "output_type": "stream",
          "name": "stdout",
          "text": [
            "[[1. 0. 0. 0. 0.]\n",
            " [0. 1. 0. 0. 0.]\n",
            " [0. 0. 1. 0. 0.]\n",
            " [0. 0. 0. 1. 0.]\n",
            " [0. 0. 0. 0. 1.]]\n"
          ]
        }
      ]
    },
    {
      "cell_type": "code",
      "source": [
        "import numpy as np\n",
        "arr=np.random.random((3,4))\n",
        "print(arr)"
      ],
      "metadata": {
        "colab": {
          "base_uri": "https://localhost:8080/"
        },
        "id": "WTGoI-g2MbnG",
        "outputId": "7217e964-476c-4f7f-dc99-bcf9ce2fb1d0"
      },
      "execution_count": 14,
      "outputs": [
        {
          "output_type": "stream",
          "name": "stdout",
          "text": [
            "[[0.26212254 0.34944768 0.60380968 0.1327551 ]\n",
            " [0.5690251  0.38942286 0.59282324 0.75264666]\n",
            " [0.76732637 0.93920078 0.50728566 0.9657997 ]]\n"
          ]
        }
      ]
    },
    {
      "cell_type": "code",
      "source": [
        "import numpy as np\n",
        "arr=np.arange(5)\n",
        "print(arr)\n",
        "condition = arr < 3\n",
        "out = np.where(condition,arr,arr*2)\n",
        "print(condition)\n",
        "print(out)"
      ],
      "metadata": {
        "colab": {
          "base_uri": "https://localhost:8080/"
        },
        "id": "_w_kx4qiM72-",
        "outputId": "b8d6b2b6-b4df-4593-dd25-d4e0a1e9b4f3"
      },
      "execution_count": 15,
      "outputs": [
        {
          "output_type": "stream",
          "name": "stdout",
          "text": [
            "[0 1 2 3 4]\n",
            "[ True  True  True False False]\n",
            "[0 1 2 6 8]\n"
          ]
        }
      ]
    },
    {
      "cell_type": "code",
      "source": [
        "import numpy as np\n",
        "arr=np.array([[1,2],[3,4]])\n",
        "out=arr.flatten()\n",
        "print(arr)\n",
        "print(out)"
      ],
      "metadata": {
        "colab": {
          "base_uri": "https://localhost:8080/"
        },
        "id": "nL0I3TUpNUXg",
        "outputId": "24903eef-9923-4891-a181-a86116eddb30"
      },
      "execution_count": 16,
      "outputs": [
        {
          "output_type": "stream",
          "name": "stdout",
          "text": [
            "[[1 2]\n",
            " [3 4]]\n",
            "[1 2 3 4]\n"
          ]
        }
      ]
    },
    {
      "cell_type": "code",
      "source": [
        "import numpy as np\n",
        "l=[[1,2,3],\n",
        "   [4,5,6]]\n",
        "data=np.array(l)\n",
        "print('data\\n', data)\n",
        "print('data shape\\n', data.shape)\n",
        "data_rs=np.reshape(data,(3,2))\n",
        "print('data_rs\\n', data_rs)\n",
        "print('data_rs\\n', data_rs.shape)"
      ],
      "metadata": {
        "colab": {
          "base_uri": "https://localhost:8080/"
        },
        "id": "bLSN7fgnNpX4",
        "outputId": "40d04bbc-c191-4446-a45a-fa2b46f32e07"
      },
      "execution_count": 18,
      "outputs": [
        {
          "output_type": "stream",
          "name": "stdout",
          "text": [
            "data\n",
            " [[1 2 3]\n",
            " [4 5 6]]\n",
            "data shape\n",
            " (2, 3)\n",
            "data_rs\n",
            " [[1 2]\n",
            " [3 4]\n",
            " [5 6]]\n",
            "data_rs\n",
            " (3, 2)\n"
          ]
        }
      ]
    },
    {
      "cell_type": "code",
      "source": [
        "import numpy as np\n",
        "a_array=np.array([[1,2,3],\n",
        "                  [5,6,7]])\n",
        "b_array=a_array[:,1:3]\n",
        "print(a_array)\n",
        "print(b_array)"
      ],
      "metadata": {
        "colab": {
          "base_uri": "https://localhost:8080/"
        },
        "id": "7GvFnZ3lOW2Y",
        "outputId": "15c6ce9d-2cbf-42f5-fc71-75e8057733c5"
      },
      "execution_count": 19,
      "outputs": [
        {
          "output_type": "stream",
          "name": "stdout",
          "text": [
            "[[1 2 3]\n",
            " [5 6 7]]\n",
            "[[2 3]\n",
            " [6 7]]\n"
          ]
        }
      ]
    },
    {
      "cell_type": "code",
      "source": [
        "import numpy as np\n",
        "a_array=np.array([[1,2,3],\n",
        "                  [5,6,7]])\n",
        "print('a_array\\n', a_array)\n",
        "b_array=a_array[:,1:3]\n",
        "print('b_array\\n',b_array)\n",
        "print('before changing\\n',a_array[0,1])\n",
        "b_array[0,0]=99\n",
        "print('appter changing\\n',a_array[0,1])"
      ],
      "metadata": {
        "colab": {
          "base_uri": "https://localhost:8080/"
        },
        "id": "3U7EpyICOydp",
        "outputId": "601977ba-72ab-4ffc-86a8-812d3bb93b15"
      },
      "execution_count": 20,
      "outputs": [
        {
          "output_type": "stream",
          "name": "stdout",
          "text": [
            "a_array\n",
            " [[1 2 3]\n",
            " [5 6 7]]\n",
            "b_array\n",
            " [[2 3]\n",
            " [6 7]]\n",
            "before changing\n",
            " 2\n",
            "appter changing\n",
            " 99\n"
          ]
        }
      ]
    },
    {
      "cell_type": "code",
      "source": [
        "import numpy as np\n",
        "arr=np.array([[1,2,3],\n",
        "                [5,6,7],\n",
        "                [9,10,11]])\n",
        "row_m1=arr[1,:]\n",
        "row_m2=arr[1:2,:]\n",
        "print(row_m1,row_m1.shape)\n",
        "print(row_m1,row_m2.shape)"
      ],
      "metadata": {
        "colab": {
          "base_uri": "https://localhost:8080/"
        },
        "id": "UkxOme98PhRv",
        "outputId": "6e01038b-6316-4b5a-aff1-57c286f041a6"
      },
      "execution_count": 24,
      "outputs": [
        {
          "output_type": "stream",
          "name": "stdout",
          "text": [
            "[5 6 7] (3,)\n",
            "[5 6 7] (1, 3)\n"
          ]
        }
      ]
    },
    {
      "cell_type": "code",
      "source": [
        "import numpy as np\n",
        "arr=np.array([[1,2,3],\n",
        "              [5,6,7],\n",
        "              [9,10,11]])\n",
        "col_m1=arr[:,1]\n",
        "col_m2=arr[:,1:2]\n",
        "print(col_m1,col_m1.shape)\n",
        "print(col_m2,col_m2.shape)"
      ],
      "metadata": {
        "colab": {
          "base_uri": "https://localhost:8080/"
        },
        "id": "s47aqjhKQW1I",
        "outputId": "b2497ec7-6613-4a14-e79a-ebbd9bfd4a10"
      },
      "execution_count": 25,
      "outputs": [
        {
          "output_type": "stream",
          "name": "stdout",
          "text": [
            "[ 2  6 10] (3,)\n",
            "[[ 2]\n",
            " [ 6]\n",
            " [10]] (3, 1)\n"
          ]
        }
      ]
    },
    {
      "cell_type": "code",
      "source": [
        "import numpy as np\n",
        "x=np.array([5,6,7])\n",
        "y=np.array([8,9,10])\n",
        "print('data x \\n',x)\n",
        "print('data y \\n',y)\n",
        "print('method 1 \\n',x-y)\n",
        "print('method 2 \\n',np.subtract(x,y))"
      ],
      "metadata": {
        "colab": {
          "base_uri": "https://localhost:8080/"
        },
        "id": "W9ZCcQFeQ5f5",
        "outputId": "a3a31ca1-d216-4cdd-dab7-16fe75da5654"
      },
      "execution_count": 26,
      "outputs": [
        {
          "output_type": "stream",
          "name": "stdout",
          "text": [
            "data x \n",
            " [5 6 7]\n",
            "data y \n",
            " [ 8  9 10]\n",
            "method 1 \n",
            " [-3 -3 -3]\n",
            "method 2 \n",
            " [-3 -3 -3]\n"
          ]
        }
      ]
    },
    {
      "cell_type": "code",
      "source": [
        "import numpy as np\n",
        "x=np.array([5,6,7])\n",
        "y=np.array([8,9,10])\n",
        "print('data x \\n',x)\n",
        "print('data y \\n',y)\n",
        "print('method 1 \\n',x*y)\n",
        "print('method 2 \\n',np.multiply(x,y))"
      ],
      "metadata": {
        "colab": {
          "base_uri": "https://localhost:8080/"
        },
        "id": "XGoRGxA8RbVp",
        "outputId": "bdc7ee9f-eeec-4138-a1cc-6be9b9f8ce9e"
      },
      "execution_count": 27,
      "outputs": [
        {
          "output_type": "stream",
          "name": "stdout",
          "text": [
            "data x \n",
            " [5 6 7]\n",
            "data y \n",
            " [ 8  9 10]\n",
            "method 1 \n",
            " [40 54 70]\n",
            "method 2 \n",
            " [40 54 70]\n"
          ]
        }
      ]
    },
    {
      "cell_type": "code",
      "source": [
        "import numpy as np\n",
        "x=np.array([5,6,7])\n",
        "print('data x \\n',x)\n",
        "print('sqrt \\n',np.sqrt(x))"
      ],
      "metadata": {
        "colab": {
          "base_uri": "https://localhost:8080/"
        },
        "id": "G2Ck8YWLRnJ3",
        "outputId": "9b9312a5-024a-4893-8a42-460b3dabb3c7"
      },
      "execution_count": 28,
      "outputs": [
        {
          "output_type": "stream",
          "name": "stdout",
          "text": [
            "data x \n",
            " [5 6 7]\n",
            "sqrt \n",
            " [2.23606798 2.44948974 2.64575131]\n"
          ]
        }
      ]
    },
    {
      "cell_type": "code",
      "source": [
        "import numpy as np\n",
        "x=np.array([5,6])\n",
        "y=np.array([8,9])\n",
        "print('method 1 \\n',x.dot(y))\n",
        "print('method 2 \\n',np.dot(x,y))"
      ],
      "metadata": {
        "colab": {
          "base_uri": "https://localhost:8080/"
        },
        "id": "iXKkPjULR-OI",
        "outputId": "91fe73b6-280f-4f84-d197-d4797ed8da1c"
      },
      "execution_count": 29,
      "outputs": [
        {
          "output_type": "stream",
          "name": "stdout",
          "text": [
            "method 1 \n",
            " 94\n",
            "method 2 \n",
            " 94\n"
          ]
        }
      ]
    },
    {
      "cell_type": "code",
      "source": [
        "import numpy as np\n",
        "x=np.array([[1,2],\n",
        "           [3,4]])\n",
        "print(x)\n",
        "print(x.T)"
      ],
      "metadata": {
        "colab": {
          "base_uri": "https://localhost:8080/"
        },
        "id": "Xr42fsOfSS9f",
        "outputId": "e4b131c3-ee95-4652-a9ce-5258454a8e17"
      },
      "execution_count": 32,
      "outputs": [
        {
          "output_type": "stream",
          "name": "stdout",
          "text": [
            "[[1 2]\n",
            " [3 4]]\n",
            "[[1 3]\n",
            " [2 4]]\n"
          ]
        }
      ]
    },
    {
      "cell_type": "code",
      "source": [
        "import numpy as np\n",
        "x=np.array([5,6,7])\n",
        "print('data max \\n',x.max())\n",
        "print('data min \\n',x.min())"
      ],
      "metadata": {
        "colab": {
          "base_uri": "https://localhost:8080/"
        },
        "id": "ZOgfI3kDS2NQ",
        "outputId": "7a4de975-abf3-44f1-a203-734a8cef8409"
      },
      "execution_count": 33,
      "outputs": [
        {
          "output_type": "stream",
          "name": "stdout",
          "text": [
            "data max \n",
            " 7\n",
            "data min \n",
            " 5\n"
          ]
        }
      ]
    },
    {
      "cell_type": "code",
      "source": [
        "import numpy as np\n",
        "x=np.array([[1,2,3],\n",
        "            [4,5,6],\n",
        "             [7,8,9]])\n",
        "v=np.array([1,0,1])\n",
        "y=x+v\n",
        "print(y)"
      ],
      "metadata": {
        "colab": {
          "base_uri": "https://localhost:8080/"
        },
        "id": "66q7PR5NTIuX",
        "outputId": "8c31d195-199a-4944-8e84-67567b41d474"
      },
      "execution_count": 35,
      "outputs": [
        {
          "output_type": "stream",
          "name": "stdout",
          "text": [
            "[[ 2  2  4]\n",
            " [ 5  5  7]\n",
            " [ 8  8 10]]\n"
          ]
        }
      ]
    }
  ]
}